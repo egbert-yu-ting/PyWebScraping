{
 "cells": [
  {
   "cell_type": "code",
   "execution_count": 11,
   "metadata": {},
   "outputs": [
    {
     "name": "stdout",
     "output_type": "stream",
     "text": [
      "看板 movie 文章列表 - 批踢踢實業坊\n"
     ]
    }
   ],
   "source": [
    "import urllib.request as req\n",
    "url = 'https://www.ptt.cc/bbs/movie/index.html'\n",
    "request = req.Request(url, headers={'User-Agent':'Mozilla/5.0 (Macintosh; Intel Mac OS X 10_15_6) AppleWebKit/537.36 (KHTML, like Gecko) Chrome/88.0.4324.192 Safari/537.36'})\n",
    "with req.urlopen(request) as response:\n",
    "    data = response.read().decode('utf-8')\n",
    "import bs4\n",
    "root = bs4.BeautifulSoup(data, 'html.parser')\n",
    "web_title = root.title.string\n",
    "print(web_title)"
   ]
  },
  {
   "cell_type": "code",
   "execution_count": null,
   "metadata": {},
   "outputs": [],
   "source": []
  }
 ],
 "metadata": {
  "kernelspec": {
   "display_name": "Python 3",
   "language": "python",
   "name": "python3"
  },
  "language_info": {
   "codemirror_mode": {
    "name": "ipython",
    "version": 3
   },
   "file_extension": ".py",
   "mimetype": "text/x-python",
   "name": "python",
   "nbconvert_exporter": "python",
   "pygments_lexer": "ipython3",
   "version": "3.8.5"
  }
 },
 "nbformat": 4,
 "nbformat_minor": 4
}
