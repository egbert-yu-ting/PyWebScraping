{
 "cells": [
  {
   "cell_type": "code",
   "execution_count": 17,
   "metadata": {},
   "outputs": [
    {
     "name": "stdout",
     "output_type": "stream",
     "text": [
      "['【工作內容】台北市內湖區 - 1. 設計數據可視化的方法，讓客戶能夠更輕易的理解數據所帶來的含意。同時編寫用戶使用手冊，解釋您的設計理念，應用場景與使用方法。\\n2. 協助部門內的工程師理解統計公式並完成交辦的統計型計算任務。\\n3.…。薪資：待遇面議（經常性薪資達4萬元或以上）。職務類別：軟體設計工程師、資料庫管理人員。休假制度：週休二日。可上班日：一個月內。工作性質：全職。主動應徵、找工作，請上 104 人力銀行投遞履歷。']\n"
     ]
    }
   ],
   "source": [
    "# Grab one of job's source code (HTML) on 104 web\n",
    "import urllib.request as req\n",
    "url='https://www.104.com.tw/job/76f27?jobsource=2018indexpoc'\n",
    "with req.urlopen(url) as response:\n",
    "    data = response.read().decode('utf-8')\n",
    "#print(data)\n",
    "import bs4\n",
    "root = bs4.BeautifulSoup(data, 'html.parser')\n",
    "\n",
    "job_title = root.title.string\n",
    "#print('Job title=%s' % job_title.split('｜')[0])\n",
    "#print('Company=%s' % job_title.split('｜')[1])\n",
    "\n",
    "meta_data = root.find_all('meta')\n",
    "#print(meta_data)\n",
    "job_description = [job.attrs['content'] for job in meta_data if 'name' in job.attrs and job.attrs['name'] == 'description']\n",
    "print(job_description)\n"
   ]
  },
  {
   "cell_type": "code",
   "execution_count": null,
   "metadata": {},
   "outputs": [],
   "source": []
  }
 ],
 "metadata": {
  "kernelspec": {
   "display_name": "Python 3",
   "language": "python",
   "name": "python3"
  },
  "language_info": {
   "codemirror_mode": {
    "name": "ipython",
    "version": 3
   },
   "file_extension": ".py",
   "mimetype": "text/x-python",
   "name": "python",
   "nbconvert_exporter": "python",
   "pygments_lexer": "ipython3",
   "version": "3.8.5"
  }
 },
 "nbformat": 4,
 "nbformat_minor": 4
}
